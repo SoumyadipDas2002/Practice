{
 "cells": [
  {
   "cell_type": "code",
   "execution_count": 1,
   "id": "c4985297",
   "metadata": {
    "scrolled": true
   },
   "outputs": [
    {
     "name": "stdout",
     "output_type": "stream",
     "text": [
      "Enter number1:20\n",
      "Enter number2:30\n",
      "Before swapping values: 20 30\n",
      "After swapping values: 30 20\n"
     ]
    }
   ],
   "source": [
    "#swap\n",
    "x=int(input('Enter number1:'))\n",
    "y=int(input('Enter number2:'))\n",
    "print('Before swapping values:',x,y)\n",
    "x=x+y\n",
    "y=x-y\n",
    "x=x-y\n",
    "print('After swapping values:',x,y)"
   ]
  },
  {
   "cell_type": "code",
   "execution_count": 2,
   "id": "21b720e0",
   "metadata": {},
   "outputs": [
    {
     "name": "stdout",
     "output_type": "stream",
     "text": [
      "Enter the length of reactangle:2\n",
      "Enter the breth of reactangle:3\n",
      "Area of rectangle: 6\n"
     ]
    }
   ],
   "source": [
    "#area of rectangle\n",
    "x=int(input('Enter the length of reactangle:'))\n",
    "y=int(input('Enter the breth of reactangle:'))\n",
    "area=0\n",
    "area=x*y\n",
    "print('Area of rectangle:',area)"
   ]
  },
  {
   "cell_type": "code",
   "execution_count": 4,
   "id": "5613d9ce",
   "metadata": {},
   "outputs": [
    {
     "name": "stdout",
     "output_type": "stream",
     "text": [
      "Enter the celcius temparature:25.3\n",
      "Fahrenheit temparature: 77.54\n"
     ]
    }
   ],
   "source": [
    "#convert temparature\n",
    "celcius=float(input('Enter the celcius temparature:'))\n",
    "fahrenhite=0\n",
    "fahrenhite=float((c*9/5)+32)\n",
    "print('Fahrenheit temparature:',fahrenhite)"
   ]
  },
  {
   "cell_type": "code",
   "execution_count": 6,
   "id": "990d3c29",
   "metadata": {},
   "outputs": [
    {
     "name": "stdout",
     "output_type": "stream",
     "text": [
      "Enter the string:Soumyadip Das\n",
      "The string length is: 13\n"
     ]
    }
   ],
   "source": [
    "#string length\n",
    "string=input('Enter the string:')\n",
    "print('The string length is:',len(string))"
   ]
  },
  {
   "cell_type": "code",
   "execution_count": 9,
   "id": "b1e2be08",
   "metadata": {},
   "outputs": [
    {
     "name": "stdout",
     "output_type": "stream",
     "text": [
      "Enter the string:SoumyadipDas\n",
      "The number of vowels are: 5\n"
     ]
    }
   ],
   "source": [
    "#vowel count\n",
    "string=input('Enter the string:')\n",
    "vowel=\"aeiouAEIOU\"\n",
    "count=0\n",
    "for i in string:\n",
    "    if(i in vowel):\n",
    "        count=count+1\n",
    "print('The number of vowels are:',count)"
   ]
  },
  {
   "cell_type": "code",
   "execution_count": 10,
   "id": "6528b575",
   "metadata": {},
   "outputs": [
    {
     "name": "stdout",
     "output_type": "stream",
     "text": [
      "Enter the string:hello\n",
      "The reverse string is: olleh\n"
     ]
    }
   ],
   "source": [
    "#string reverse using slicing\n",
    "string=input('Enter the string:')\n",
    "reverse=string[::-1]\n",
    "print('The reverse string is:',reverse)"
   ]
  },
  {
   "cell_type": "code",
   "execution_count": 14,
   "id": "669f019e",
   "metadata": {},
   "outputs": [
    {
     "name": "stdout",
     "output_type": "stream",
     "text": [
      "Enter the string:labour\n",
      "ruobal is not the palindrome of labour\n"
     ]
    }
   ],
   "source": [
    "#palindrome\n",
    "string=input('Enter the string:')\n",
    "reverse=string[::-1]\n",
    "if (string==reverse):\n",
    "    print(reverse,'is the palindrome of',string)\n",
    "else:\n",
    "     print(reverse,'is not the palindrome of',string)"
   ]
  },
  {
   "cell_type": "code",
   "execution_count": 17,
   "id": "e2a037fc",
   "metadata": {},
   "outputs": [
    {
     "name": "stdout",
     "output_type": "stream",
     "text": [
      "Enter the string:Hello world\n",
      "The string witout space is: Helloworld\n"
     ]
    }
   ],
   "source": [
    "#replace space\n",
    "string=input('Enter the string:')\n",
    "print('The string witout space is:',string.replace(\" \",\"\"))"
   ]
  }
 ],
 "metadata": {
  "kernelspec": {
   "display_name": "Python 3 (ipykernel)",
   "language": "python",
   "name": "python3"
  },
  "language_info": {
   "codemirror_mode": {
    "name": "ipython",
    "version": 3
   },
   "file_extension": ".py",
   "mimetype": "text/x-python",
   "name": "python",
   "nbconvert_exporter": "python",
   "pygments_lexer": "ipython3",
   "version": "3.11.4"
  }
 },
 "nbformat": 4,
 "nbformat_minor": 5
}
